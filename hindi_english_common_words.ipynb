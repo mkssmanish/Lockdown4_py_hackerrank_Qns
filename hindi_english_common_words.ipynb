{
  "nbformat": 4,
  "nbformat_minor": 0,
  "metadata": {
    "colab": {
      "name": "hindi_english_common_words.ipynb",
      "provenance": [],
      "collapsed_sections": [],
      "authorship_tag": "ABX9TyPtBO7GFzjeG0YrAdN4dbrO",
      "include_colab_link": true
    },
    "kernelspec": {
      "name": "python3",
      "display_name": "Python 3"
    }
  },
  "cells": [
    {
      "cell_type": "markdown",
      "metadata": {
        "id": "view-in-github",
        "colab_type": "text"
      },
      "source": [
        "<a href=\"https://colab.research.google.com/github/mkssmanish/Lockdown4_py_hackerrank_Qns/blob/master/hindi_english_common_words.ipynb\" target=\"_parent\"><img src=\"https://colab.research.google.com/assets/colab-badge.svg\" alt=\"Open In Colab\"/></a>"
      ]
    },
    {
      "cell_type": "code",
      "metadata": {
        "id": "GqHypPFgQFX9",
        "colab_type": "code",
        "colab": {}
      },
      "source": [
        "######################  Given two hindi sentence & their respective transalation in english  ###############\n",
        "####################     Find common hindi & its respective english word ###################################\n",
        "\n",
        "\n",
        "#### Note   for now done for two sentences ############################"
      ],
      "execution_count": null,
      "outputs": []
    },
    {
      "cell_type": "code",
      "metadata": {
        "id": "d-FeiXIfQIOp",
        "colab_type": "code",
        "colab": {}
      },
      "source": [
        "def find_word(list_sen):\n",
        "\n",
        "    hindi_0  = set(list_sen[0].split())\n",
        "    eng_0   =  set(list_sen[1].lower().split())\n",
        "     \n",
        "    hindi_1  = set(list_sen[2].split())\n",
        "    eng_1   =  set(list_sen[3].lower().split())\n",
        "    \n",
        "    \n",
        "    common_hindi_words = hindi_0.intersection(hindi_1)\n",
        "    common_eng_words = str(eng_0.intersection(eng_1)).title()\n",
        "    \n",
        "    result =  tuple()\n",
        "    result = (common_hindi_words,  common_eng_words)\n",
        "    \n",
        "#    print(common_hindi_words)\n",
        "#    print(common_eng_words)\n",
        "   \n",
        "    return result"
      ],
      "execution_count": null,
      "outputs": []
    },
    {
      "cell_type": "code",
      "metadata": {
        "id": "j4qtsBhiQUI8",
        "colab_type": "code",
        "colab": {}
      },
      "source": [
        "hindi_0 = \"राम आम खाता\"\n",
        "eng_0  = \"ram eats mango\"\n",
        "\n",
        "\n",
        "hindi_1 = \"राम घर गया\"\n",
        "eng_1  = \"Ram went home\"\n",
        "\n",
        "list_sen = [hindi_0, eng_0, hindi_1, eng_1]\n",
        "\n",
        "\n",
        "result = find_word(list_sen)\n",
        "print(result)"
      ],
      "execution_count": null,
      "outputs": []
    }
  ]
}