{
  "nbformat": 4,
  "nbformat_minor": 0,
  "metadata": {
    "colab": {
      "name": "hin_eng_word_mapping.ipynb",
      "provenance": [],
      "collapsed_sections": [],
      "authorship_tag": "ABX9TyPKAlFJFhBG46mDavKK/jUd",
      "include_colab_link": true
    },
    "kernelspec": {
      "name": "python3",
      "display_name": "Python 3"
    }
  },
  "cells": [
    {
      "cell_type": "markdown",
      "metadata": {
        "id": "view-in-github",
        "colab_type": "text"
      },
      "source": [
        "<a href=\"https://colab.research.google.com/github/mkssmanish/Lockdown4_py_hackerrank_Qns/blob/master/hin_eng_word_mapping.ipynb\" target=\"_parent\"><img src=\"https://colab.research.google.com/assets/colab-badge.svg\" alt=\"Open In Colab\"/></a>"
      ]
    },
    {
      "cell_type": "code",
      "metadata": {
        "id": "1N99wDngmP7x",
        "colab_type": "code",
        "colab": {}
      },
      "source": [
        "def find_word(list_sen):\n",
        "\n",
        "    hindi_0  = set(list_sen[0].split())\n",
        "    eng_0   =  set(list_sen[1].lower().split())\n",
        "     \n",
        "    hindi_1  = set(list_sen[2].split())\n",
        "    eng_1   =  set(list_sen[3].lower().split())\n",
        "    \n",
        "    \n",
        "    common_hindi_words = hindi_0.intersection(hindi_1)  \n",
        "    common_eng_words = eng_0.intersection(eng_1)        \n",
        "    \n",
        "    result =  tuple()                                   \n",
        "    result = (common_hindi_words,  common_eng_words)    \n",
        "    \n",
        "#    print(common_hindi_words)\n",
        "#    print(common_eng_words)\n",
        "   \n",
        "    return result"
      ],
      "execution_count": 11,
      "outputs": []
    },
    {
      "cell_type": "code",
      "metadata": {
        "id": "NTQdYQJBmRWj",
        "colab_type": "code",
        "colab": {}
      },
      "source": [
        "def find_hin_eng_match_word(list_sen_hindi,  list_sen_eng ):\n",
        "  length = len(list_sen_hindi)\n",
        "  hin_eng_word = []\n",
        "  result = []\n",
        "  for i in range(length):\n",
        "    for j in range(length):\n",
        "      if i != j: \n",
        "        list_sen = [list_sen_hindi[i], list_sen_eng[i],     list_sen_hindi[j], list_sen_eng[j]]\n",
        "        result.append(  find_word(list_sen ) )\n",
        "        #print(result)\n",
        "  return result"
      ],
      "execution_count": 36,
      "outputs": []
    },
    {
      "cell_type": "code",
      "metadata": {
        "id": "u8Mf9GzxmRgr",
        "colab_type": "code",
        "colab": {
          "base_uri": "https://localhost:8080/",
          "height": 34
        },
        "outputId": "5604924f-b40e-4ff9-b7f4-c9e7fadabb53"
      },
      "source": [
        "hindi_0 = \"राम आम खाता\"\n",
        "eng_0  = \"ram eats mango\"\n",
        "\n",
        "\n",
        "hindi_1 = \"राम घर गया\"\n",
        "eng_1  = \"Ram went home\"\n",
        "\n",
        "hindi_2 = \"सोनू घर जाता\"\n",
        "eng_2  = \"Sonu goes home\"\n",
        "\n",
        "hindi_3 = \"चंचल स्कूल जाता\"\n",
        "eng_3 = \"Chanchal goes to school\"\n",
        "\n",
        "\n",
        "list_sen_hindi = [hindi_0,  hindi_1, hindi_2 , hindi_3]\n",
        "list_sen_eng =  [eng_0, eng_1, eng_2, eng_3  ]\n",
        "\n",
        "\n",
        "result = find_hin_eng_match_word(list_sen_hindi,  list_sen_eng )\n",
        "res = [] \n",
        "for i in result: \n",
        "    if i not in res: \n",
        "        res.append(i)\n",
        "print(res)"
      ],
      "execution_count": 40,
      "outputs": [
        {
          "output_type": "stream",
          "text": [
            "[({'राम'}, {'ram'}), (set(), set()), ({'घर'}, {'home'}), ({'जाता'}, {'goes'})]\n"
          ],
          "name": "stdout"
        }
      ]
    },
    {
      "cell_type": "code",
      "metadata": {
        "id": "-CRd2KjNrjoG",
        "colab_type": "code",
        "colab": {}
      },
      "source": [
        ""
      ],
      "execution_count": null,
      "outputs": []
    },
    {
      "cell_type": "code",
      "metadata": {
        "id": "wLp0jDxvrjrf",
        "colab_type": "code",
        "colab": {
          "base_uri": "https://localhost:8080/",
          "height": 34
        },
        "outputId": "104b1707-3dd5-46ee-9447-ce7ab303af9f"
      },
      "source": [
        "hindi_0 = \"राम आम खाता\"\n",
        "eng_0  = \"ram eats mango\"\n",
        "\n",
        "\n",
        "hindi_1 = \"राम घर गया\"\n",
        "eng_1  = \"Ram went home\"\n",
        "\n",
        "hindi_2 = \"सोनू घर जाता\"\n",
        "eng_2  = \"Sonu goes home\"\n",
        "\n",
        "hindi_3 = \"चंचल स्कूल जाता\"\n",
        "eng_3 = \"Chanchal goes to school\"\n",
        "\n",
        "\n",
        "list_sen_hindi = [ hindi_3, hindi_1, hindi_2, hindi_0 ]    #### Order of sentence changed \n",
        "list_sen_eng =  [eng_3, eng_1, eng_2, eng_0  ]             #### just to see whether getting same answer or not \n",
        "\n",
        "\n",
        "result = find_hin_eng_match_word(list_sen_hindi,  list_sen_eng )\n",
        "res = [] \n",
        "for i in result: \n",
        "    if i not in res: \n",
        "        res.append(i)\n",
        "print(res)"
      ],
      "execution_count": 41,
      "outputs": [
        {
          "output_type": "stream",
          "text": [
            "[(set(), set()), ({'जाता'}, {'goes'}), ({'घर'}, {'home'}), ({'राम'}, {'ram'})]\n"
          ],
          "name": "stdout"
        }
      ]
    }
  ]
}