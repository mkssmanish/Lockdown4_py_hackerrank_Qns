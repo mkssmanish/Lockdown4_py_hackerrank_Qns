{
  "nbformat": 4,
  "nbformat_minor": 0,
  "metadata": {
    "colab": {
      "name": "hin_eng_word_mapping.ipynb",
      "provenance": [],
      "collapsed_sections": [],
      "authorship_tag": "ABX9TyOPlmuGZhz9WMHlLzJFsu3r",
      "include_colab_link": true
    },
    "kernelspec": {
      "name": "python3",
      "display_name": "Python 3"
    }
  },
  "cells": [
    {
      "cell_type": "markdown",
      "metadata": {
        "id": "view-in-github",
        "colab_type": "text"
      },
      "source": [
        "<a href=\"https://colab.research.google.com/github/mkssmanish/Lockdown4_py_hackerrank_Qns/blob/master/hin_eng_word_mapping.ipynb\" target=\"_parent\"><img src=\"https://colab.research.google.com/assets/colab-badge.svg\" alt=\"Open In Colab\"/></a>"
      ]
    },
    {
      "cell_type": "code",
      "metadata": {
        "id": "5qLXzvsDepet",
        "colab_type": "code",
        "colab": {}
      },
      "source": [
        "######################  Given two or more than 2 sentence & their respective transalation in english  ###############\n",
        "####################     Find common hindi & its respective english word ###################################"
      ],
      "execution_count": 1,
      "outputs": []
    },
    {
      "cell_type": "code",
      "metadata": {
        "id": "1N99wDngmP7x",
        "colab_type": "code",
        "colab": {}
      },
      "source": [
        "def find_word(list_sen):\n",
        "\n",
        "    hindi_0  = set(list_sen[0].split())\n",
        "    eng_0   =  set(list_sen[1].lower().split())\n",
        "     \n",
        "    hindi_1  = set(list_sen[2].split())\n",
        "    eng_1   =  set(list_sen[3].lower().split())\n",
        "    \n",
        "    \n",
        "    common_hindi_words = hindi_0.intersection(hindi_1)  \n",
        "    common_eng_words = eng_0.intersection(eng_1)        \n",
        "    \n",
        "    result =  tuple()                                   \n",
        "    result = (common_hindi_words,  common_eng_words)    \n",
        "   \n",
        "    return result"
      ],
      "execution_count": 6,
      "outputs": []
    },
    {
      "cell_type": "code",
      "metadata": {
        "id": "NTQdYQJBmRWj",
        "colab_type": "code",
        "colab": {}
      },
      "source": [
        "def find_hin_eng_match_word(list_sen_hindi,  list_sen_eng ):\n",
        "  length = len(list_sen_hindi)\n",
        "  hin_eng_word = []\n",
        "  result = []\n",
        "  for i in range(length):\n",
        "    for j in range(length):\n",
        "      if i != j: \n",
        "        list_sen = [list_sen_hindi[i], list_sen_eng[i],     list_sen_hindi[j], list_sen_eng[j]]\n",
        "        result.append(  find_word(list_sen ) )\n",
        "        #print(result)\n",
        "  return result"
      ],
      "execution_count": 7,
      "outputs": []
    },
    {
      "cell_type": "code",
      "metadata": {
        "id": "u8Mf9GzxmRgr",
        "colab_type": "code",
        "colab": {
          "base_uri": "https://localhost:8080/",
          "height": 34
        },
        "outputId": "93d40a34-4a7e-422e-d0e1-530cd270ecdc"
      },
      "source": [
        "hindi_0 = \"राम आम खाता\"\n",
        "eng_0  = \"ram eats mango\"\n",
        "\n",
        "\n",
        "hindi_1 = \"राम घर गया\"\n",
        "eng_1  = \"Ram went home\"\n",
        "\n",
        "hindi_2 = \"सोनू घर जाता\"\n",
        "eng_2  = \"Sonu goes home\"\n",
        "\n",
        "hindi_3 = \"चंचल स्कूल जाता\"\n",
        "eng_3 = \"Chanchal goes to school\"\n",
        "\n",
        "\n",
        "list_sen_hindi = [hindi_0,  hindi_1, hindi_2 , hindi_3]\n",
        "list_sen_eng =  [eng_0, eng_1, eng_2, eng_3  ]\n",
        "\n",
        "\n",
        "result = find_hin_eng_match_word(list_sen_hindi,  list_sen_eng )\n",
        "res = [] \n",
        "for i in result: \n",
        "    if i not in res: \n",
        "        res.append(i)\n",
        "print(res)"
      ],
      "execution_count": 8,
      "outputs": [
        {
          "output_type": "stream",
          "text": [
            "[({'राम'}, {'ram'}), (set(), set()), ({'घर'}, {'home'}), ({'जाता'}, {'goes'})]\n"
          ],
          "name": "stdout"
        }
      ]
    },
    {
      "cell_type": "code",
      "metadata": {
        "id": "-CRd2KjNrjoG",
        "colab_type": "code",
        "colab": {}
      },
      "source": [
        ""
      ],
      "execution_count": null,
      "outputs": []
    },
    {
      "cell_type": "code",
      "metadata": {
        "id": "wLp0jDxvrjrf",
        "colab_type": "code",
        "colab": {
          "base_uri": "https://localhost:8080/",
          "height": 34
        },
        "outputId": "c5b1c9b1-9864-4c59-d767-495b500f39fb"
      },
      "source": [
        "hindi_0 = \"राम आम खाता\"\n",
        "eng_0  = \"ram eats mango\"\n",
        "\n",
        "\n",
        "hindi_1 = \"राम घर गया\"\n",
        "eng_1  = \"Ram went home\"\n",
        "\n",
        "hindi_2 = \"सोनू घर जाता\"\n",
        "eng_2  = \"Sonu goes home\"\n",
        "\n",
        "hindi_3 = \"चंचल स्कूल जाता\"\n",
        "eng_3 = \"Chanchal goes to school\"\n",
        "\n",
        "hindi_4 = \"चंचल लीची खायेगी \"\n",
        "eng_4 =  \"chanchal will eat litchi\"\n",
        "\n",
        "######  if you try like this ######################\n",
        "# hindi_4 = \"चंचल लीची खायेगी जाता\"\n",
        "# eng_4 =  \"chanchal will eat litchi goes\"\n",
        "###########   ({'चंचल', 'जाता'}, {'chanchal', 'goes'})    #########\n",
        "\n",
        "list_sen_hindi = [ hindi_3, hindi_1, hindi_2, hindi_0 , hindi_4]    #### Order of sentence changed + 1 added\n",
        "list_sen_eng =  [eng_3, eng_1, eng_2, eng_0 , eng_4 ]             #### just to see whether getting same answer or not \n",
        "\n",
        "\n",
        "result = find_hin_eng_match_word(list_sen_hindi,  list_sen_eng )\n",
        "res = [] \n",
        "for i in result: \n",
        "    if i not in res: \n",
        "        res.append(i)\n",
        "print(res)"
      ],
      "execution_count": 9,
      "outputs": [
        {
          "output_type": "stream",
          "text": [
            "[(set(), set()), ({'जाता'}, {'goes'}), ({'चंचल'}, {'chanchal'}), ({'घर'}, {'home'}), ({'राम'}, {'ram'})]\n"
          ],
          "name": "stdout"
        }
      ]
    }
  ]
}