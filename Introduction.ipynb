{
  "nbformat": 4,
  "nbformat_minor": 0,
  "metadata": {
    "colab": {
      "name": "Introduction.ipynb",
      "provenance": [],
      "authorship_tag": "ABX9TyPn1gchiIhOELpFKksvbMB6",
      "include_colab_link": true
    },
    "kernelspec": {
      "name": "python3",
      "display_name": "Python 3"
    }
  },
  "cells": [
    {
      "cell_type": "markdown",
      "metadata": {
        "id": "view-in-github",
        "colab_type": "text"
      },
      "source": [
        "<a href=\"https://colab.research.google.com/github/mkssmanish/Lockdown4_py_hackerrank_Qns/blob/master/Introduction.ipynb\" target=\"_parent\"><img src=\"https://colab.research.google.com/assets/colab-badge.svg\" alt=\"Open In Colab\"/></a>"
      ]
    },
    {
      "cell_type": "code",
      "metadata": {
        "id": "5QR2PUGa7QpH",
        "colab_type": "code",
        "colab": {}
      },
      "source": [
        "### Say Hello, World! with python"
      ],
      "execution_count": 0,
      "outputs": []
    },
    {
      "cell_type": "code",
      "metadata": {
        "id": "ulRvhkZ_BvVw",
        "colab_type": "code",
        "colab": {}
      },
      "source": [
        "my_string = \"Hello, World!\"\n",
        "print(my_string)"
      ],
      "execution_count": 0,
      "outputs": []
    },
    {
      "cell_type": "code",
      "metadata": {
        "id": "81E_TQTHB6Zm",
        "colab_type": "code",
        "colab": {}
      },
      "source": [
        ""
      ],
      "execution_count": 0,
      "outputs": []
    },
    {
      "cell_type": "code",
      "metadata": {
        "id": "_Xyf0JpmB6dE",
        "colab_type": "code",
        "colab": {}
      },
      "source": [
        "### Python if-Else "
      ],
      "execution_count": 0,
      "outputs": []
    },
    {
      "cell_type": "code",
      "metadata": {
        "id": "JtaC6I-cCBb0",
        "colab_type": "code",
        "colab": {}
      },
      "source": [
        "N = int(input(\"Enter integer number : \"))\n",
        "\n",
        "R = N%2 \n",
        "\n",
        "if (R ==  0) :\n",
        "  if((N >= 2 and N < 5) or N > 20) :\n",
        "    print(\"Not Weired\")\n",
        "  else :\n",
        "    print(\"Weired\")\n",
        "\n",
        "else :\n",
        "  print(\"Weired\")"
      ],
      "execution_count": 0,
      "outputs": []
    },
    {
      "cell_type": "code",
      "metadata": {
        "id": "3MOaiQdFC0rT",
        "colab_type": "code",
        "colab": {}
      },
      "source": [
        ""
      ],
      "execution_count": 0,
      "outputs": []
    },
    {
      "cell_type": "code",
      "metadata": {
        "id": "LYtAiuWNC0un",
        "colab_type": "code",
        "colab": {}
      },
      "source": [
        "### Arithmatic Operations ####"
      ],
      "execution_count": 0,
      "outputs": []
    },
    {
      "cell_type": "code",
      "metadata": {
        "id": "QZEnwgXwC0xk",
        "colab_type": "code",
        "colab": {}
      },
      "source": [
        "first_integer = int(input(\"Enter first integer  : \"))\n",
        "second_integer = int(input(\"Enter second integer  :\"))\n",
        "\n",
        "#Sum\n",
        "print(first_integer + second_integer)\n",
        "\n",
        "#subtraction \n",
        "print(first_integer - second_integer)\n",
        "\n",
        "#Multiplication\n",
        "print(first_integer * second_integer)\n",
        "\n"
      ],
      "execution_count": 0,
      "outputs": []
    },
    {
      "cell_type": "code",
      "metadata": {
        "id": "5flD-wwqDyAO",
        "colab_type": "code",
        "colab": {}
      },
      "source": [
        ""
      ],
      "execution_count": 0,
      "outputs": []
    },
    {
      "cell_type": "code",
      "metadata": {
        "id": "lqQAX0tWDyIH",
        "colab_type": "code",
        "colab": {}
      },
      "source": [
        "### Python Division"
      ],
      "execution_count": 0,
      "outputs": []
    },
    {
      "cell_type": "code",
      "metadata": {
        "id": "PCMUKk7ADyMC",
        "colab_type": "code",
        "colab": {}
      },
      "source": [
        "a = int(input(\"Enter integer number  : \"))\n",
        "b = int(input(\"Enter integer number   :\"))\n",
        "\n",
        "# Integer division\n",
        "print(a//b)\n",
        "\n",
        "#float division\n",
        "print(a/b)"
      ],
      "execution_count": 0,
      "outputs": []
    },
    {
      "cell_type": "code",
      "metadata": {
        "id": "Aq847znmERiF",
        "colab_type": "code",
        "colab": {}
      },
      "source": [
        ""
      ],
      "execution_count": 0,
      "outputs": []
    },
    {
      "cell_type": "code",
      "metadata": {
        "id": "dCaf-rcrERlJ",
        "colab_type": "code",
        "colab": {}
      },
      "source": [
        "# Loops "
      ],
      "execution_count": 0,
      "outputs": []
    },
    {
      "cell_type": "code",
      "metadata": {
        "id": "Q4A6b24QERn7",
        "colab_type": "code",
        "colab": {}
      },
      "source": [
        "N = int(input(\"Enter integer less than 20  : \"))\n",
        "for i in range(N) :\n",
        "  print( i**2 )"
      ],
      "execution_count": 0,
      "outputs": []
    },
    {
      "cell_type": "code",
      "metadata": {
        "id": "HrV_w4DIERqi",
        "colab_type": "code",
        "colab": {}
      },
      "source": [
        ""
      ],
      "execution_count": 0,
      "outputs": []
    },
    {
      "cell_type": "code",
      "metadata": {
        "id": "CeCVKXPsERt_",
        "colab_type": "code",
        "colab": {}
      },
      "source": [
        "### Leap year function "
      ],
      "execution_count": 0,
      "outputs": []
    },
    {
      "cell_type": "code",
      "metadata": {
        "id": "XenUx606ER23",
        "colab_type": "code",
        "colab": {}
      },
      "source": [
        "def is_leap(year) :\n",
        "  leap = False\n",
        "  if year % 4 == 0 :\n",
        "    if year % 100 == 0:\n",
        "      if year % 400 == 0:\n",
        "        leap = True\n",
        "        return leap\n",
        "      else :\n",
        "        leap = False\n",
        "        return leap\n",
        "    else :\n",
        "      leap = True\n",
        "      return leap\n",
        "  else :\n",
        "     return leap\n",
        "\n",
        "\n",
        "year = int(input(\"Enter year b/w 1900  & 100000   : \"))\n",
        "print(is_leap(year))"
      ],
      "execution_count": 0,
      "outputs": []
    },
    {
      "cell_type": "code",
      "metadata": {
        "id": "8EE8o2ReER7O",
        "colab_type": "code",
        "colab": {}
      },
      "source": [
        ""
      ],
      "execution_count": 0,
      "outputs": []
    },
    {
      "cell_type": "code",
      "metadata": {
        "id": "8l0E64sDERfa",
        "colab_type": "code",
        "colab": {}
      },
      "source": [
        "### for number N print 123..N without fun"
      ],
      "execution_count": 0,
      "outputs": []
    },
    {
      "cell_type": "code",
      "metadata": {
        "id": "Omi_E5igG5aE",
        "colab_type": "code",
        "colab": {}
      },
      "source": [
        "N = int(input(\"Enter integer Number   :  \"))\n",
        "for i in range(1,N+1) :\n",
        "  print(i, end = \"\")"
      ],
      "execution_count": 0,
      "outputs": []
    }
  ]
}