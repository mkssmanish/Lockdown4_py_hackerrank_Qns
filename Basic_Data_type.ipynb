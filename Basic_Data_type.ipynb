{
  "nbformat": 4,
  "nbformat_minor": 0,
  "metadata": {
    "colab": {
      "name": "Basic_Data_type.ipynb",
      "provenance": [],
      "authorship_tag": "ABX9TyNjZOTUE9D4pUI8OBCXpk7v",
      "include_colab_link": true
    },
    "kernelspec": {
      "name": "python3",
      "display_name": "Python 3"
    }
  },
  "cells": [
    {
      "cell_type": "markdown",
      "metadata": {
        "id": "view-in-github",
        "colab_type": "text"
      },
      "source": [
        "<a href=\"https://colab.research.google.com/github/mkssmanish/Lockdown4_py_hackerrank_Qns/blob/master/Basic_Data_type.ipynb\" target=\"_parent\"><img src=\"https://colab.research.google.com/assets/colab-badge.svg\" alt=\"Open In Colab\"/></a>"
      ]
    },
    {
      "cell_type": "code",
      "metadata": {
        "id": "UzJhWVQaIk5T",
        "colab_type": "code",
        "colab": {}
      },
      "source": [
        "\n",
        "# program\n",
        "### sorted(list(set(my_list))) [-2]\n",
        "\n",
        "#Step\n",
        "\n",
        "# my_list -->> is a list containing many numerical value\n",
        "# set(my_list) -- > will return only unique value of my_list\n",
        "# turn the return data into list --> list(.....above query....)\n",
        "#why ???\n",
        "#because if it is list data type then you can sort it  using sort()\n",
        "\n",
        "# final sorted(list(set(my_list))) will return a list \n",
        "\n",
        "# list[-1] return max value, list[-2] will return second highest \n",
        "\n"
      ],
      "execution_count": 0,
      "outputs": []
    },
    {
      "cell_type": "code",
      "metadata": {
        "id": "-xbpQS9l364H",
        "colab_type": "code",
        "colab": {}
      },
      "source": [
        ""
      ],
      "execution_count": 0,
      "outputs": []
    },
    {
      "cell_type": "code",
      "metadata": {
        "id": "IkAGddy_30nB",
        "colab_type": "code",
        "colab": {}
      },
      "source": [
        "### Find the Runner-Up Score"
      ],
      "execution_count": 0,
      "outputs": []
    },
    {
      "cell_type": "code",
      "metadata": {
        "id": "w57eUk7qDHFZ",
        "colab_type": "code",
        "colab": {}
      },
      "source": [
        "n = int(input())\n",
        "arr = map(int, input().split()) \n",
        "arr =  sorted(list(set(arr)))[-2]\n",
        "print(arr)"
      ],
      "execution_count": 0,
      "outputs": []
    },
    {
      "cell_type": "code",
      "metadata": {
        "id": "pVxyRJsj38em",
        "colab_type": "code",
        "colab": {}
      },
      "source": [
        ""
      ],
      "execution_count": 0,
      "outputs": []
    },
    {
      "cell_type": "code",
      "metadata": {
        "id": "UyLZIsfW38iA",
        "colab_type": "code",
        "colab": {}
      },
      "source": [
        ""
      ],
      "execution_count": 0,
      "outputs": []
    },
    {
      "cell_type": "code",
      "metadata": {
        "id": "vlZg7qhmDHIX",
        "colab_type": "code",
        "colab": {}
      },
      "source": [
        "### Given an integer, n, and  space-separated integers as input,\n",
        "#...create a tuple, t, of those  integers n. \n",
        "#...hen compute and print the result of hash(t) \n",
        "\n",
        "### hash() is one of the functions in the __builtins__ module,\n",
        "#...so it need not be imported."
      ],
      "execution_count": 0,
      "outputs": []
    },
    {
      "cell_type": "code",
      "metadata": {
        "id": "J1rjWymSDg0R",
        "colab_type": "code",
        "colab": {}
      },
      "source": [
        "if __name__ == \"__main__\" :\n",
        "  n = input(\"enter integer number \")\n",
        "  integer_list = tuple(map(int, input().split()))\n",
        "  print(hash(integer_list))\n",
        "\n",
        "\n"
      ],
      "execution_count": 0,
      "outputs": []
    },
    {
      "cell_type": "code",
      "metadata": {
        "id": "ufYu9Wn-EZP2",
        "colab_type": "code",
        "colab": {}
      },
      "source": [
        ""
      ],
      "execution_count": 0,
      "outputs": []
    },
    {
      "cell_type": "code",
      "metadata": {
        "id": "XvZ5eHNVEZVb",
        "colab_type": "code",
        "colab": {}
      },
      "source": [
        "### List Operation \n",
        "\n",
        "### Consider a list (list = []). You can perform the following commands:\n",
        "\n",
        "#insert i e: Insert integer e at position i .\n",
        "#print: Print the list.\n",
        "#remove e: Delete the first occurrence of integer e .\n",
        "#append e: Insert integer e at the end of the list.\n",
        "#sort: Sort the list.\n",
        "#pop: Pop the last element from the list.\n",
        "#reverse: Reverse the list."
      ],
      "execution_count": 0,
      "outputs": []
    },
    {
      "cell_type": "code",
      "metadata": {
        "id": "ENjD0qG_Ed34",
        "colab_type": "code",
        "colab": {}
      },
      "source": [
        "if __name__ == '__main__':\n",
        "    N = int(input())\n",
        "    L = []\n",
        "    for i in range(0, N):\n",
        "        tokens = input().split()\n",
        "\n",
        "        if tokens[0] == 'insert':\n",
        "            L.insert(int(tokens[1]), int(tokens[2]))\n",
        "        elif tokens[0] == 'print':\n",
        "            print (L)\n",
        "        elif tokens[0] == 'remove':\n",
        "            L.remove(int(tokens[1]))\n",
        "        elif tokens[0] == 'append':\n",
        "            L.append(int(tokens[1]))\n",
        "        elif tokens[0] == 'sort':\n",
        "            L.sort()\n",
        "        elif tokens[0] == 'pop':\n",
        "            L.pop()\n",
        "        elif tokens[0] == 'reverse':\n",
        "            L.reverse()\n",
        "        else :\n",
        "          print(\"something went wrong !!! input()  ???\")\n"
      ],
      "execution_count": 0,
      "outputs": []
    },
    {
      "cell_type": "code",
      "metadata": {
        "id": "VTQeTIPhEeC-",
        "colab_type": "code",
        "colab": {}
      },
      "source": [
        "\n"
      ],
      "execution_count": 0,
      "outputs": []
    },
    {
      "cell_type": "code",
      "metadata": {
        "id": "5KEHJS5BOq_L",
        "colab_type": "code",
        "colab": {}
      },
      "source": [
        "### N student , take name & score ... find particular student"
      ],
      "execution_count": 0,
      "outputs": []
    },
    {
      "cell_type": "code",
      "metadata": {
        "id": "vLFdT010OjUO",
        "colab_type": "code",
        "colab": {}
      },
      "source": [
        "n = int(input())\n",
        "student_marks = {}\n",
        "for _ in range(n):\n",
        "      line = input(\"name & marks with ' ' sep   :  \" ).split()\n",
        "      name, scores = line[0], line[1:]\n",
        "      scores = map(float, scores)\n",
        "      student_marks[name] = scores\n",
        "query_name = input(\"student name   : \")\n",
        "query_scores = student_marks[query_name]\n",
        "print(\"{0:.2f}\".format(sum(query_scores)/(3)))\n"
      ],
      "execution_count": 0,
      "outputs": []
    },
    {
      "cell_type": "code",
      "metadata": {
        "id": "9JXJjA4_OjXG",
        "colab_type": "code",
        "colab": {}
      },
      "source": [
        ""
      ],
      "execution_count": 0,
      "outputs": []
    },
    {
      "cell_type": "code",
      "metadata": {
        "id": "jKKN5GPGOjaI",
        "colab_type": "code",
        "colab": {}
      },
      "source": [
        "### Given the names and grades for each student\n",
        "### in a Physics class of  N students,\n",
        "### store them in a nested list and print the name(s) \n",
        "### of any student(s) having the second lowest grade."
      ],
      "execution_count": 0,
      "outputs": []
    },
    {
      "cell_type": "code",
      "metadata": {
        "id": "Sj1C8ZqAOjd-",
        "colab_type": "code",
        "colab": {}
      },
      "source": [
        "N = int(input())\n",
        "students = list()\n",
        "for i in range(N):\n",
        "    students.append([input(), float(input())])\n",
        "\n",
        "scores = set([students[x][1] for x in range(N)])\n",
        "scores = list(scores)\n",
        "scores.sort()\n",
        "\n",
        "students = [x[0] for x in students if x[1] == scores[1]]\n",
        "students.sort()\n",
        "\n",
        "for s in students:\n",
        "     print (s)"
      ],
      "execution_count": 0,
      "outputs": []
    },
    {
      "cell_type": "code",
      "metadata": {
        "id": "Ti_mFj-zze5F",
        "colab_type": "code",
        "colab": {}
      },
      "source": [
        ""
      ],
      "execution_count": 0,
      "outputs": []
    },
    {
      "cell_type": "code",
      "metadata": {
        "id": "3GlzDufJ0Twv",
        "colab_type": "code",
        "colab": {}
      },
      "source": [
        "### List Comprehensions\n",
        "\n",
        "# given three integers X Y and Z  representing\n",
        "# the dimensions of a cuboid along with an integer N.\n",
        "# You have to print a list of all possible coordinates given by (i,j,k)\n",
        "# on a 3D grid where the sum of  i+j+k is not equal to N. \n",
        "\n"
      ],
      "execution_count": 0,
      "outputs": []
    },
    {
      "cell_type": "code",
      "metadata": {
        "id": "7ZmIHX_90Tzs",
        "colab_type": "code",
        "colab": {}
      },
      "source": [
        "x = int(input())\n",
        "y = int(input())\n",
        "z = int(input())\n",
        "n = int(input())\n",
        "arr = [[X, Y, Z] for X in range(x+1) for Y in range(y+1) for Z in range(z+1) if X + Y + Z != n]\n",
        "print(arr)"
      ],
      "execution_count": 0,
      "outputs": []
    },
    {
      "cell_type": "code",
      "metadata": {
        "id": "SQLFhOOi0T2b",
        "colab_type": "code",
        "colab": {}
      },
      "source": [
        ""
      ],
      "execution_count": 0,
      "outputs": []
    },
    {
      "cell_type": "code",
      "metadata": {
        "id": "-xU7E8IV0T5u",
        "colab_type": "code",
        "colab": {}
      },
      "source": [
        ""
      ],
      "execution_count": 0,
      "outputs": []
    },
    {
      "cell_type": "code",
      "metadata": {
        "id": "XuaT3dal0T9n",
        "colab_type": "code",
        "colab": {}
      },
      "source": [
        ""
      ],
      "execution_count": 0,
      "outputs": []
    },
    {
      "cell_type": "code",
      "metadata": {
        "id": "e5JsTto00UEJ",
        "colab_type": "code",
        "colab": {}
      },
      "source": [
        ""
      ],
      "execution_count": 0,
      "outputs": []
    },
    {
      "cell_type": "code",
      "metadata": {
        "id": "LMde-L5_0UCu",
        "colab_type": "code",
        "colab": {}
      },
      "source": [
        ""
      ],
      "execution_count": 0,
      "outputs": []
    }
  ]
}